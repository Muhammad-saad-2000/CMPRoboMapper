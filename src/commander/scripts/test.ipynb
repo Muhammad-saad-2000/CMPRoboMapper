{
 "cells": [
  {
   "cell_type": "code",
   "execution_count": 113,
   "metadata": {},
   "outputs": [
    {
     "name": "stdout",
     "output_type": "stream",
     "text": [
      "0.07654837545697266\n",
      "1.9739686664237143e-48\n"
     ]
    }
   ],
   "source": [
    "import numpy as np\n",
    "pi, sqrt, absl, det, exp, inv = np.pi,  np.sqrt, np.abs, np.linalg.det, np.exp, np.linalg.inv\n",
    "\n",
    "\n",
    "μp  = np.array([3, 12, 5])\n",
    "Σp = np.array([[1.4, 1.3, 1.6],\n",
    "              [1.5, 1.7, 1.1],\n",
    "              [1.9, 1.3, 1.5]])\n",
    "              \n",
    "\n",
    "\n",
    "def Pu(x, y, θ):\n",
    "   norm = 1/((2 * pi)**1.5 *sqrt(absl(det(Σp))))\n",
    "   Xu = μp - np.array([x, y, θ])\n",
    "   return norm * exp(-0.5 * (Xu) @ inv(Σp) @ (Xu).T)\n",
    "\n",
    "\n",
    "Pu = np.vectorize(Pu)\n",
    "\n",
    "print(Pu(3, 12, 5))\n",
    "\n",
    "\n",
    "x = np.linspace(-10, -10, 20)\n",
    "y = np.linspace(-10, 10, 20)\n",
    "θ = np.linspace(-10, 10, 20)\n",
    "\n",
    "X, Y, Z = np.meshgrid(x, y, θ)\n",
    "\n",
    "P = Pu(X, Y, Z)\n",
    "\n",
    "print(P[3, 12, 15])\n"
   ]
  }
 ],
 "metadata": {
  "kernelspec": {
   "display_name": "base",
   "language": "python",
   "name": "python3"
  },
  "language_info": {
   "codemirror_mode": {
    "name": "ipython",
    "version": 3
   },
   "file_extension": ".py",
   "mimetype": "text/x-python",
   "name": "python",
   "nbconvert_exporter": "python",
   "pygments_lexer": "ipython3",
   "version": "3.8.8"
  },
  "orig_nbformat": 4,
  "vscode": {
   "interpreter": {
    "hash": "40d3a090f54c6569ab1632332b64b2c03c39dcf918b08424e98f38b5ae0af88f"
   }
  }
 },
 "nbformat": 4,
 "nbformat_minor": 2
}
